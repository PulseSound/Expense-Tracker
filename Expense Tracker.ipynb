{
  "metadata": {
    "kernelspec": {
      "name": "xpython",
      "display_name": "Python 3.13 (XPython)",
      "language": "python"
    },
    "language_info": {
      "file_extension": ".py",
      "mimetype": "text/x-python",
      "name": "python",
      "version": "3.13.1"
    }
  },
  "nbformat_minor": 5,
  "nbformat": 4,
  "cells": [
    {
      "id": "4c4c4cec-9732-4537-b4e5-6cc446e2b963",
      "cell_type": "code",
      "source": "",
      "metadata": {
        "trusted": true
      },
      "outputs": [],
      "execution_count": null
    },
    {
      "id": "ae58b9c6-7ced-4ef2-8711-c6a5894ed793",
      "cell_type": "code",
      "source": "import csv\nimport datetime\n\ndef add_expense(expenses):\n    date = input(\"Enter date (YYYY-MM-DD): \")\n    category = input(\"Enter category (e.g., Food, Travel): \")\n    try:\n        amount = float(input(\"Enter amount spent: \"))\n    except ValueError:\n        print(\"Invalid amount. Expense not added.\")\n        return\n    description = input(\"Enter a brief description: \")\n    expense = {\n        'Date': date,\n        'Category': category,\n        'Amount': f\"${amount:.2f}\",\n        'Description': description\n    }\n    expenses.append(expense)\n    print(\"Expense added!\")\n\ndef view_expenses(expenses):\n    print(\"\\nExpenses:\")\n    for exp in expenses:\n        date = exp.get('Date') or exp.get('date')\n        category = exp.get('Category') or exp.get('category')\n        amount = exp.get('Amount') or exp.get('amount')\n        description = exp.get('Description') or exp.get('description')\n        if all([date, category, amount, description]):\n            print(f\"{date} | {category} | {amount} | {description}\")\n        else:\n            print(\"Incomplete expense entry skipped.\")\n\ndef set_budget():\n    try:\n        budget = float(input(\"Enter your monthly budget: \"))\n        print(f\"Monthly budget set to ${budget:.2f}\")\n        return budget\n    except ValueError:\n        print(\"Invalid budget amount.\")\n        return 0.0\n\ndef track_budget(expenses, budget):\n    total = 0.0\n    for exp in expenses:\n        amount_str = exp.get('Amount') or exp.get('amount')\n        try:\n            # Remove $ if present and convert to float\n            amount = float(str(amount_str).replace('$',''))\n            total += amount\n        except Exception:\n            continue\n    print(f\"Total expenses: ${total:.2f}\")\n    if budget == 0.0:\n        print(\"No budget set.\")\n    elif total > budget:\n        print(\"You have exceeded your budget!\")\n    else:\n        print(f\"You have ${budget-total:.2f} left for the month.\")\n\ndef save_expenses(expenses, filename):\n    with open(filename, 'w', newline='', encoding='utf-8') as f:\n        writer = csv.DictWriter(f, fieldnames=['Date','Category','Amount','Description'])\n        writer.writeheader()\n        for exp in expenses:\n            writer.writerow({\n                'Date': exp.get('Date') or exp.get('date'),\n                'Category': exp.get('Category') or exp.get('category'),\n                'Amount': exp.get('Amount') or (f\"${exp.get('amount'):.2f}\" if exp.get('amount') else ''),\n                'Description': exp.get('Description') or exp.get('description')\n            })\n    print(\"Expenses saved to file.\")\n\ndef load_expenses(filename):\n    expenses = []\n    try:\n        with open(filename, 'r', encoding='utf-8') as f:\n            reader = csv.DictReader(f)\n            for row in reader:\n                expenses.append(row)\n    except FileNotFoundError:\n        pass\n    return expenses\n\ndef display_menu():\n    print(\"\\nExpense Tracker Menu:\")\n    print(\"1. Add expense\")\n    print(\"2. View expenses\")\n    print(\"3. Track budget\")\n    print(\"4. Save expenses\")\n    print(\"5. Exit\")\n\ndef main():\n    filename = \"expenses.csv\"\n    expenses = load_expenses(filename)\n    budget = 0.0\n    print(\"Welcome to Personal Expense Tracker!\")\n    while True:\n        display_menu()\n        choice = input(\"Choose an option (1-5): \")\n        if choice == '1':\n            add_expense(expenses)\n        elif choice == '2':\n            view_expenses(expenses)\n        elif choice == '3':\n            if budget == 0.0:\n                budget = set_budget()\n            track_budget(expenses, budget)\n        elif choice == '4':\n            save_expenses(expenses, filename)\n        elif choice == '5':\n            save_expenses(expenses, filename)\n            print(\"Goodbye!\")\n            break\n        else:\n            print(\"Invalid choice. Please select 1-5.\")\n\nmain()",
      "metadata": {
        "trusted": true
      },
      "outputs": [
        {
          "name": "stdout",
          "output_type": "stream",
          "text": "Welcome to Personal Expense Tracker!\n\nExpense Tracker Menu:\n1. Add expense\n2. View expenses\n3. Track budget\n4. Save expenses\n5. Exit\n"
        },
        {
          "output_type": "stream",
          "name": "stdin",
          "text": "Choose an option (1-5):  1\nEnter date (YYYY-MM-DD):  2025-09-01\nEnter category (e.g., Food, Travel):  Home\nEnter amount spent:  2300\nEnter a brief description:  Mortgage\n"
        },
        {
          "name": "stdout",
          "output_type": "stream",
          "text": "Expense added!\n\nExpense Tracker Menu:\n1. Add expense\n2. View expenses\n3. Track budget\n4. Save expenses\n5. Exit\n"
        },
        {
          "output_type": "stream",
          "name": "stdin",
          "text": "Choose an option (1-5):  1\nEnter date (YYYY-MM-DD):  2025-09-01\nEnter category (e.g., Food, Travel):  Travel\nEnter amount spent:  1900\nEnter a brief description:  Vacation\n"
        },
        {
          "name": "stdout",
          "output_type": "stream",
          "text": "Expense added!\n\nExpense Tracker Menu:\n1. Add expense\n2. View expenses\n3. Track budget\n4. Save expenses\n5. Exit\n"
        },
        {
          "output_type": "stream",
          "name": "stdin",
          "text": "Choose an option (1-5):  1\nEnter date (YYYY-MM-DD):  2025-09-07\nEnter category (e.g., Food, Travel):  Food\nEnter amount spent:  550\nEnter a brief description:  Groceries\n"
        },
        {
          "name": "stdout",
          "output_type": "stream",
          "text": "Expense added!\n\nExpense Tracker Menu:\n1. Add expense\n2. View expenses\n3. Track budget\n4. Save expenses\n5. Exit\n"
        },
        {
          "output_type": "stream",
          "name": "stdin",
          "text": "Choose an option (1-5):  2\n"
        },
        {
          "name": "stdout",
          "output_type": "stream",
          "text": "\nExpenses:\n2025-09-01 | Home | $2300.00 | Mortgage\n2025-09-01 | Travel | $1900.00 | Vacation\n2025-09-07 | Food | $550.00 | Groceries\n\nExpense Tracker Menu:\n1. Add expense\n2. View expenses\n3. Track budget\n4. Save expenses\n5. Exit\n"
        },
        {
          "output_type": "stream",
          "name": "stdin",
          "text": "Choose an option (1-5):  3\nEnter your monthly budget:  6400\n"
        },
        {
          "name": "stdout",
          "output_type": "stream",
          "text": "Monthly budget set to $6400.00\nTotal expenses: $4750.00\nYou have $1650.00 left for the month.\n\nExpense Tracker Menu:\n1. Add expense\n2. View expenses\n3. Track budget\n4. Save expenses\n5. Exit\n"
        },
        {
          "output_type": "stream",
          "name": "stdin",
          "text": "Choose an option (1-5):  4\n"
        },
        {
          "name": "stdout",
          "output_type": "stream",
          "text": "Expenses saved to file.\n\nExpense Tracker Menu:\n1. Add expense\n2. View expenses\n3. Track budget\n4. Save expenses\n5. Exit\n"
        },
        {
          "output_type": "stream",
          "name": "stdin",
          "text": "Choose an option (1-5):  5\n"
        },
        {
          "name": "stdout",
          "output_type": "stream",
          "text": "Expenses saved to file.\nGoodbye!\n"
        }
      ],
      "execution_count": 1
    },
    {
      "id": "236a8fef-78fb-41bc-b2c0-9659ae35d743",
      "cell_type": "code",
      "source": "",
      "metadata": {
        "trusted": true
      },
      "outputs": [],
      "execution_count": null
    }
  ]
}